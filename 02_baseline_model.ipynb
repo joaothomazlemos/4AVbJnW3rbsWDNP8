{
 "cells": [
  {
   "attachments": {},
   "cell_type": "markdown",
   "metadata": {},
   "source": [
    "# 1 The objective of this notebook is to train and test a baseline model - Logistic Regression"
   ]
  },
  {
   "attachments": {},
   "cell_type": "markdown",
   "metadata": {},
   "source": [
    "Reference metric: 73%"
   ]
  },
  {
   "cell_type": "code",
   "execution_count": 26,
   "metadata": {},
   "outputs": [],
   "source": [
    "#---------Importing libraries---------#\n",
    "\n",
    "#---Data analysis---#\n",
    "import pandas as pd\n",
    "import numpy as np\n",
    "\n",
    "\n",
    "#---Data splitting---#\n",
    "from sklearn.model_selection import train_test_split\n",
    "\n",
    "#---classification models---#\n",
    "from sklearn.linear_model import LogisticRegression\n",
    "\n",
    "#---evaluation---#\n",
    "from sklearn.metrics import accuracy_score, classification_report\n",
    "\n",
    "#---utils---#\n",
    "import os\n"
   ]
  },
  {
   "attachments": {},
   "cell_type": "markdown",
   "metadata": {},
   "source": [
    "## 1.1 Raw data"
   ]
  },
  {
   "cell_type": "code",
   "execution_count": 27,
   "metadata": {},
   "outputs": [],
   "source": [
    "#importing raw data\n",
    "df = pd.read_csv('data/ACME-HappinessSurvey2020.csv')\n",
    "\n",
    "#splitting data into 80% train and 20% test\n",
    "X = df.drop(columns=['Y'])\n",
    "y = df['Y']\n",
    "\n",
    "X_train, X_test, y_train, y_test = train_test_split(X, y, test_size=0.2, random_state=42)\n"
   ]
  },
  {
   "cell_type": "code",
   "execution_count": 28,
   "metadata": {},
   "outputs": [
    {
     "name": "stdout",
     "output_type": "stream",
     "text": [
      "Base line Accuracy score: 46.15% \n",
      "              precision    recall  f1-score   support\n",
      "\n",
      "           0       0.56      0.33      0.42        15\n",
      "           1       0.41      0.64      0.50        11\n",
      "\n",
      "    accuracy                           0.46        26\n",
      "   macro avg       0.48      0.48      0.46        26\n",
      "weighted avg       0.49      0.46      0.45        26\n",
      "\n"
     ]
    }
   ],
   "source": [
    "LR = LogisticRegression(random_state=42)\n",
    "LR.fit(X_train, y_train)\n",
    "\n",
    "y_pred = LR.predict(X_test)\n",
    "\n",
    "print('Base line Accuracy score: {:.2%} '.format(accuracy_score(y_test, y_pred)))\n",
    "\n",
    "print(classification_report(y_test, y_pred))"
   ]
  },
  {
   "attachments": {},
   "cell_type": "markdown",
   "metadata": {},
   "source": [
    "Okay, our baseline is 46% accuracy. Let's see if we can do better."
   ]
  },
  {
   "attachments": {},
   "cell_type": "markdown",
   "metadata": {},
   "source": [
    "## 1.2 Data version 1"
   ]
  },
  {
   "cell_type": "code",
   "execution_count": 29,
   "metadata": {},
   "outputs": [],
   "source": [
    "#importing data\n",
    "df_v1 = pd.read_csv('data/base_v1.csv')\n",
    "\n",
    "#splitting data into 80% train and 20% test\n",
    "X = df_v1.drop(columns=['Y'])\n",
    "y = df_v1['Y']\n",
    "\n",
    "X_train, X_test, y_train, y_test = train_test_split(X, y, test_size=0.2, random_state=42)"
   ]
  },
  {
   "cell_type": "code",
   "execution_count": 30,
   "metadata": {},
   "outputs": [
    {
     "data": {
      "text/plain": [
       "(109, 7)"
      ]
     },
     "execution_count": 30,
     "metadata": {},
     "output_type": "execute_result"
    }
   ],
   "source": [
    "df_v1.shape"
   ]
  },
  {
   "cell_type": "code",
   "execution_count": 31,
   "metadata": {},
   "outputs": [
    {
     "name": "stdout",
     "output_type": "stream",
     "text": [
      "Base line Accuracy score: 72.73% \n",
      "              precision    recall  f1-score   support\n",
      "\n",
      "           0       0.83      0.50      0.62        10\n",
      "           1       0.69      0.92      0.79        12\n",
      "\n",
      "    accuracy                           0.73        22\n",
      "   macro avg       0.76      0.71      0.71        22\n",
      "weighted avg       0.75      0.73      0.71        22\n",
      "\n"
     ]
    }
   ],
   "source": [
    "LR = LogisticRegression(random_state=42)\n",
    "LR.fit(X_train, y_train)\n",
    "\n",
    "y_pred = LR.predict(X_test)\n",
    "\n",
    "print('Base line Accuracy score: {:.2%} '.format(accuracy_score(y_test, y_pred)))\n",
    "\n",
    "print(classification_report(y_test, y_pred))"
   ]
  },
  {
   "attachments": {},
   "cell_type": "markdown",
   "metadata": {},
   "source": [
    "72.7% ! almost a 30% improvement over the baseline. Let's see if we can do better with other models."
   ]
  }
 ],
 "metadata": {
  "kernelspec": {
   "display_name": "base",
   "language": "python",
   "name": "python3"
  },
  "language_info": {
   "codemirror_mode": {
    "name": "ipython",
    "version": 3
   },
   "file_extension": ".py",
   "mimetype": "text/x-python",
   "name": "python",
   "nbconvert_exporter": "python",
   "pygments_lexer": "ipython3",
   "version": "3.9.13"
  },
  "orig_nbformat": 4
 },
 "nbformat": 4,
 "nbformat_minor": 2
}
