{
 "cells": [
  {
   "attachments": {
    "image.png": {
     "image/png": "[encoded data removed]"
    }
   },
   "cell_type": "markdown",
   "metadata": {},
   "source": [
    "# 0 The objective of this notebook is to train and test some ML models to achieve our 73% accuracy metric \n",
    "\n",
    "We only want to focus on the dissatisfied clients, so we can identify the problems here. So, we will aim for the metric that cares about the negatives outcomes 0.\n",
    "For this, we will focus on the specificity\n",
    "\n",
    " ![image.png](attachment:image.png)\n",
    "\n",
    "\n"
   ]
  },
  {
   "attachments": {},
   "cell_type": "markdown",
   "metadata": {},
   "source": [
    "As we could see, the version of data that gave us the best metrics were base_v1"
   ]
  },
  {
   "cell_type": "code",
   "execution_count": 16,
   "metadata": {},
   "outputs": [],
   "source": [
    "#---------Importing libraries---------#\n",
    "\n",
    "#---Data analysis---#\n",
    "import pandas as pd\n",
    "import numpy as np\n",
    "\n",
    "\n",
    "#---Data splitting---#\n",
    "from sklearn.model_selection import train_test_split\n",
    "\n",
    "#---classification models---#\n",
    "from sklearn.linear_model import LogisticRegression\n",
    "\n",
    "#---evaluation---#\n",
    "from sklearn.metrics import accuracy_score, classification_report\n",
    "\n",
    "#---utils---#\n",
    "import os\n",
    "\n",
    "#---data---#\n",
    "df = pd.read_csv('data/base_v1.csv')\n",
    "\n",
    "\n",
    "#---------Models---------#\n",
    "#emsemble\n",
    "from sklearn.ensemble import RandomForestClassifier\n",
    "from xgboost import XGBClassifier\n",
    "from sklearn.linear_model import RidgeClassifier\n",
    "from sklearn.svm import SVC\n"
   ]
  },
  {
   "cell_type": "code",
   "execution_count": 5,
   "metadata": {},
   "outputs": [
    {
     "data": {
      "text/plain": [
       "(109, 7)"
      ]
     },
     "execution_count": 5,
     "metadata": {},
     "output_type": "execute_result"
    }
   ],
   "source": [
    "#splitting data into 80% train and 20% test\n",
    "X = df.drop(columns=['Y'])\n",
    "y = df['Y']\n",
    "\n",
    "X_train, X_test, y_train, y_test = train_test_split(X, y, test_size=0.2, random_state=42)\n",
    "\n",
    "df.shape"
   ]
  },
  {
   "attachments": {},
   "cell_type": "markdown",
   "metadata": {},
   "source": [
    "# 1 Trying different and more complex models"
   ]
  },
  {
   "cell_type": "code",
   "execution_count": 19,
   "metadata": {},
   "outputs": [],
   "source": [
    "def modeling(model, X_train, X_test, y_train, y_test):\n",
    "    model.fit(X_train, y_train)\n",
    "    y_pred = model.predict(X_test)\n",
    "    print(classification_report(y_test, y_pred))\n",
    "    print('Accuracy: {:.2%}'.format(accuracy_score(y_test, y_pred)))"
   ]
  },
  {
   "attachments": {},
   "cell_type": "markdown",
   "metadata": {},
   "source": [
    "## 1.0 Ridge Regression classifier\n",
    "\n"
   ]
  },
  {
   "cell_type": "code",
   "execution_count": 20,
   "metadata": {},
   "outputs": [
    {
     "name": "stdout",
     "output_type": "stream",
     "text": [
      "              precision    recall  f1-score   support\n",
      "\n",
      "           0       0.75      0.60      0.67        10\n",
      "           1       0.71      0.83      0.77        12\n",
      "\n",
      "    accuracy                           0.73        22\n",
      "   macro avg       0.73      0.72      0.72        22\n",
      "weighted avg       0.73      0.73      0.72        22\n",
      "\n",
      "Accuracy: 72.73%\n"
     ]
    }
   ],
   "source": [
    "modeling(RidgeClassifier(random_state=42), X_train, X_test, y_train, y_test)"
   ]
  },
  {
   "attachments": {},
   "cell_type": "markdown",
   "metadata": {},
   "source": [
    "## 1.1 XGBoost"
   ]
  },
  {
   "cell_type": "code",
   "execution_count": 21,
   "metadata": {},
   "outputs": [
    {
     "name": "stdout",
     "output_type": "stream",
     "text": [
      "              precision    recall  f1-score   support\n",
      "\n",
      "           0       0.56      0.50      0.53        10\n",
      "           1       0.62      0.67      0.64        12\n",
      "\n",
      "    accuracy                           0.59        22\n",
      "   macro avg       0.59      0.58      0.58        22\n",
      "weighted avg       0.59      0.59      0.59        22\n",
      "\n",
      "Accuracy: 59.09%\n"
     ]
    }
   ],
   "source": [
    "modeling(XGBClassifier(random_state=42), X_train, X_test, y_train, y_test)"
   ]
  },
  {
   "attachments": {},
   "cell_type": "markdown",
   "metadata": {},
   "source": [
    "## 1.2 RandomForest"
   ]
  },
  {
   "cell_type": "code",
   "execution_count": 22,
   "metadata": {},
   "outputs": [
    {
     "name": "stdout",
     "output_type": "stream",
     "text": [
      "              precision    recall  f1-score   support\n",
      "\n",
      "           0       0.60      0.60      0.60        10\n",
      "           1       0.67      0.67      0.67        12\n",
      "\n",
      "    accuracy                           0.64        22\n",
      "   macro avg       0.63      0.63      0.63        22\n",
      "weighted avg       0.64      0.64      0.64        22\n",
      "\n",
      "Accuracy: 63.64%\n"
     ]
    }
   ],
   "source": [
    "modeling(RandomForestClassifier(random_state=42), X_train, X_test, y_train, y_test)"
   ]
  },
  {
   "attachments": {},
   "cell_type": "markdown",
   "metadata": {},
   "source": [
    "## 1.3 SVM"
   ]
  },
  {
   "cell_type": "code",
   "execution_count": 23,
   "metadata": {},
   "outputs": [
    {
     "name": "stdout",
     "output_type": "stream",
     "text": [
      "              precision    recall  f1-score   support\n",
      "\n",
      "           0       0.83      0.50      0.62        10\n",
      "           1       0.69      0.92      0.79        12\n",
      "\n",
      "    accuracy                           0.73        22\n",
      "   macro avg       0.76      0.71      0.71        22\n",
      "weighted avg       0.75      0.73      0.71        22\n",
      "\n",
      "Accuracy: 72.73%\n"
     ]
    }
   ],
   "source": [
    "modeling(SVC(random_state=42), X_train, X_test, y_train, y_test)"
   ]
  },
  {
   "attachments": {},
   "cell_type": "markdown",
   "metadata": {},
   "source": [
    "# 2 Hyperparameter tuning"
   ]
  }
 ],
 "metadata": {
  "kernelspec": {
   "display_name": "base",
   "language": "python",
   "name": "python3"
  },
  "language_info": {
   "codemirror_mode": {
    "name": "ipython",
    "version": 3
   },
   "file_extension": ".py",
   "mimetype": "text/x-python",
   "name": "python",
   "nbconvert_exporter": "python",
   "pygments_lexer": "ipython3",
   "version": "3.9.13"
  },
  "orig_nbformat": 4
 },
 "nbformat": 4,
 "nbformat_minor": 2
}
